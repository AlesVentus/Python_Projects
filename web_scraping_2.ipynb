{
 "cells": [
  {
   "cell_type": "code",
   "execution_count": 45,
   "metadata": {},
   "outputs": [],
   "source": [
    "import requests\n",
    "from bs4 import BeautifulSoup as bs\n",
    "\n",
    "url = \"https://www.imdb.com/chart/moviemeter/?ref_=nv_mv_mpm\"\n",
    "r = requests.get(url)\n",
    "\n",
    "soup = bs(r.text, \"lxml\")\n",
    "\n",
    "lister = soup.find(\"tbody\")\n",
    "movies = lister.find_all(\"tr\")\n",
    "\n",
    "file = \"C:\\\\Users\\\\alesv\\\\Desktop\\\\webscrap_2.csv\"\n",
    "with open(file, 'w', encoding=\"utf-16\") as fh:\n",
    "    headers = \"movie, year, rating \\n\"\n",
    "    fh.write(headers)\n",
    "\n",
    "    for movie in movies:\n",
    "        movie_name = movie.find(\"td\", {\"class\": \"titleColumn\"}).a.text\n",
    "        movie_year = movie.find(\"span\", {\"class\": \"secondaryInfo\"}).text\n",
    "        if movie.find(\"td\", {\"class\": \"ratingColumn imdbRating\"}).strong:\n",
    "            movie_rating = movie.find(\"td\", {\"class\": \"ratingColumn imdbRating\"}).strong.text\n",
    "        else:\n",
    "            movie_rating = \"no rating\"\n",
    "\n",
    "        fh.write(movie_name.replace(\",\", \" \") + \",\" + movie_year.replace(\"(\", \"\").replace(\")\", \"\") + \",\" + movie_rating + \"\\n\")\n",
    "\n",
    "    \n",
    "\n",
    "    "
   ]
  }
 ],
 "metadata": {
  "kernelspec": {
   "display_name": "Python 3",
   "language": "python",
   "name": "python3"
  },
  "language_info": {
   "codemirror_mode": {
    "name": "ipython",
    "version": 3
   },
   "file_extension": ".py",
   "mimetype": "text/x-python",
   "name": "python",
   "nbconvert_exporter": "python",
   "pygments_lexer": "ipython3",
   "version": "3.7.3"
  }
 },
 "nbformat": 4,
 "nbformat_minor": 2
}
