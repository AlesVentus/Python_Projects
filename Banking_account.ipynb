{
 "cells": [
  {
   "cell_type": "code",
   "execution_count": 115,
   "metadata": {},
   "outputs": [],
   "source": [
    "import random\n",
    "import string\n",
    "from datetime import datetime\n",
    "\n",
    "class Account():\n",
    "    \n",
    "    def __init__(self, owner, balance=0):\n",
    "        \n",
    "        self.owner = owner\n",
    "        self.account_num = self.__account_generator()\n",
    "        self.client_ID = self.__ID_generator()\n",
    "        self.balance = balance\n",
    "    \n",
    "    \n",
    "    def __random_letter(self):\n",
    "        \n",
    "        return string.ascii_letters[random.randint(0, 51)]\n",
    "    \n",
    "    def __ID_generator(self):\n",
    "               \n",
    "        return self.__random_letter() + self.__random_letter() + '-' + self.__random_letter()+ str(random.randint(0, 999)) + '-' + str(random.randint(0, 99))\n",
    "    \n",
    "    def __account_generator(self):\n",
    "               \n",
    "        return str(random.randint(0, 999)) + '-' + str(random.randint(0, 99)) + '-' + str(random.randint(0, 999))\n",
    "\n",
    "    def write_trans(self, amount, tran_type):\n",
    "        \n",
    "        now = datetime.now()\n",
    "        date_time = now.strftime(\"%m/%d/%Y, %H:%M:%S\")\n",
    "        row = [self.owner, self.client_ID, str(amount), tran_type, str(self.balance), str(date_time)]\n",
    "        datarow = \",\".join(row)\n",
    "        f = open(\"transactions.csv\",'a+',encoding = 'utf-8')\n",
    "        f.write(datarow + '\\n')\n",
    "        f.close()\n",
    "                 \n",
    "    def deposit(self, amount):\n",
    "        \n",
    "        self.balance = self.balance + amount\n",
    "        print(f'Deposit accepted')\n",
    "        \n",
    "        tran_type = \"deposit\"\n",
    "        self.write_trans(amount, tran_type)\n",
    "           \n",
    "    def withdraw(self, amount):\n",
    "        \n",
    "        if self.balance < amount:\n",
    "            print('Not enough money on the account')\n",
    "        else:\n",
    "            self.balance = self.balance - amount\n",
    "            print(f'Withdraw accepted')\n",
    "            \n",
    "            tran_type = \"withdraw\"\n",
    "            self.write_trans(amount, tran_type)\n",
    "            \n",
    "    def __str__(self):\n",
    "        return f'{self.owner} with ID {self.client_ID}, has {self.balance} $ on his account num {self.account_num}'\n",
    "    "
   ]
  },
  {
   "cell_type": "code",
   "execution_count": 116,
   "metadata": {},
   "outputs": [],
   "source": [
    "client1 = Account(\"John\", 100)"
   ]
  },
  {
   "cell_type": "code",
   "execution_count": 28,
   "metadata": {},
   "outputs": [
    {
     "data": {
      "text/plain": [
       "'187-95-647'"
      ]
     },
     "execution_count": 28,
     "metadata": {},
     "output_type": "execute_result"
    }
   ],
   "source": [
    "client1.account_num"
   ]
  },
  {
   "cell_type": "code",
   "execution_count": 29,
   "metadata": {},
   "outputs": [
    {
     "data": {
      "text/plain": [
       "'jY-L5-81'"
      ]
     },
     "execution_count": 29,
     "metadata": {},
     "output_type": "execute_result"
    }
   ],
   "source": [
    "client1.client_ID"
   ]
  },
  {
   "cell_type": "code",
   "execution_count": 117,
   "metadata": {},
   "outputs": [
    {
     "name": "stdout",
     "output_type": "stream",
     "text": [
      "Deposit accepted\n"
     ]
    }
   ],
   "source": [
    "client1.deposit(50)"
   ]
  },
  {
   "cell_type": "code",
   "execution_count": 118,
   "metadata": {},
   "outputs": [
    {
     "name": "stdout",
     "output_type": "stream",
     "text": [
      "Withdraw accepted\n"
     ]
    }
   ],
   "source": [
    "client1.withdraw(20)"
   ]
  },
  {
   "cell_type": "code",
   "execution_count": 119,
   "metadata": {},
   "outputs": [
    {
     "name": "stdout",
     "output_type": "stream",
     "text": [
      "Deposit accepted\n"
     ]
    }
   ],
   "source": [
    "client1.deposit(50)"
   ]
  },
  {
   "cell_type": "code",
   "execution_count": 120,
   "metadata": {},
   "outputs": [
    {
     "data": {
      "text/plain": [
       "180"
      ]
     },
     "execution_count": 120,
     "metadata": {},
     "output_type": "execute_result"
    }
   ],
   "source": [
    "client1.balance"
   ]
  },
  {
   "cell_type": "code",
   "execution_count": 121,
   "metadata": {},
   "outputs": [
    {
     "name": "stdout",
     "output_type": "stream",
     "text": [
      "John with ID Mj-q589-58, has 180 $ on his account num 667-46-507\n"
     ]
    }
   ],
   "source": [
    "print(client1)"
   ]
  },
  {
   "cell_type": "code",
   "execution_count": 35,
   "metadata": {},
   "outputs": [],
   "source": [
    "with open(\"transactions.csv\",'w+',encoding = 'utf-8') as f:\n",
    "            f.write('sdjkdsjklsd, dfjkdsfjksdf')"
   ]
  },
  {
   "cell_type": "code",
   "execution_count": 108,
   "metadata": {},
   "outputs": [
    {
     "name": "stdout",
     "output_type": "stream",
     "text": [
      "date and time: 12/20/2021, 11:27:19\n"
     ]
    }
   ],
   "source": [
    "from datetime import datetime\n",
    "now = datetime.now()\n",
    "date_time = now.strftime(\"%m/%d/%Y, %H:%M:%S\")\n",
    "print(\"date and time:\",date_time)"
   ]
  }
 ],
 "metadata": {
  "kernelspec": {
   "display_name": "Python 3",
   "language": "python",
   "name": "python3"
  },
  "language_info": {
   "codemirror_mode": {
    "name": "ipython",
    "version": 3
   },
   "file_extension": ".py",
   "mimetype": "text/x-python",
   "name": "python",
   "nbconvert_exporter": "python",
   "pygments_lexer": "ipython3",
   "version": "3.7.3"
  }
 },
 "nbformat": 4,
 "nbformat_minor": 2
}
