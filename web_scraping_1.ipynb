{
 "cells": [
  {
   "cell_type": "code",
   "execution_count": 2,
   "metadata": {},
   "outputs": [],
   "source": [
    "#from urllib.request import urlopen as uReq\n",
    "import urllib.request as req\n",
    "import bs4\n",
    "from bs4 import BeautifulSoup as soup\n",
    "\n",
    "my_url = \"https://dennikn.sk/\"\n",
    "uClient = req.urlopen(my_url)\n",
    "page_html = uClient.read()\n",
    "uClient.close()\n",
    "\n",
    "page_soup = soup(page_html, \"lxml\")\n",
    "\n",
    "articles = page_soup.findAll(\"article\")\n",
    "file = \"C:\\\\Users\\\\alesv\\\\Desktop\\\\webscrap.csv\"\n",
    "with open(file, 'w', encoding=\"utf-16\") as fh:\n",
    "    headers = \"author, article \\n\"\n",
    "    fh.write(headers)\n",
    "    \n",
    "    for article in articles:\n",
    "        art_title = article.h3.text\n",
    "        title = art_title.split(\"if\")[0].replace(\",\", \"|\")\n",
    "\n",
    "        author_article = article.findAll(\"a\", {\"class\": \"e_terms_term e_terms_author\"})\n",
    "\n",
    "        if len(author_article) == 0:\n",
    "            author = \"unknown\"\n",
    "        else:\n",
    "            author = author_article[0].text\n",
    "\n",
    "        fh.write(author + \",\" + title + \"\\n\")\n"
   ]
  },
  {
   "cell_type": "code",
   "execution_count": null,
   "metadata": {},
   "outputs": [],
   "source": []
  }
 ],
 "metadata": {
  "kernelspec": {
   "display_name": "Python 3",
   "language": "python",
   "name": "python3"
  },
  "language_info": {
   "codemirror_mode": {
    "name": "ipython",
    "version": 3
   },
   "file_extension": ".py",
   "mimetype": "text/x-python",
   "name": "python",
   "nbconvert_exporter": "python",
   "pygments_lexer": "ipython3",
   "version": "3.7.3"
  }
 },
 "nbformat": 4,
 "nbformat_minor": 2
}
