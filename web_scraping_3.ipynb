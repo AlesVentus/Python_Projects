{
 "cells": [
  {
   "cell_type": "code",
   "execution_count": 13,
   "metadata": {},
   "outputs": [],
   "source": [
    "import requests\n",
    "from bs4 import BeautifulSoup as bs\n",
    "import pandas as pd\n",
    "\n",
    "url = \"https://acidcow.com/page/2/\"\n",
    "\n",
    "r = requests.get(url)\n",
    "soup = bs(r.text, \"lxml\")\n",
    "\n"
   ]
  },
  {
   "cell_type": "code",
   "execution_count": 14,
   "metadata": {},
   "outputs": [
    {
     "data": {
      "text/html": [
       "<div>\n",
       "<style scoped>\n",
       "    .dataframe tbody tr th:only-of-type {\n",
       "        vertical-align: middle;\n",
       "    }\n",
       "\n",
       "    .dataframe tbody tr th {\n",
       "        vertical-align: top;\n",
       "    }\n",
       "\n",
       "    .dataframe thead th {\n",
       "        text-align: right;\n",
       "    }\n",
       "</style>\n",
       "<table border=\"1\" class=\"dataframe\">\n",
       "  <thead>\n",
       "    <tr style=\"text-align: right;\">\n",
       "      <th></th>\n",
       "      <th>acid name</th>\n",
       "      <th>number of pics</th>\n",
       "      <th>category</th>\n",
       "      <th>views</th>\n",
       "      <th>likes</th>\n",
       "    </tr>\n",
       "  </thead>\n",
       "  <tbody>\n",
       "    <tr>\n",
       "      <th>0</th>\n",
       "      <td>Acid Picdump 1</td>\n",
       "      <td>82</td>\n",
       "      <td>Picdump</td>\n",
       "      <td>6575</td>\n",
       "      <td>+17</td>\n",
       "    </tr>\n",
       "    <tr>\n",
       "      <th>1</th>\n",
       "      <td>Acid Picdump 2</td>\n",
       "      <td>80</td>\n",
       "      <td>Picdump</td>\n",
       "      <td>5036</td>\n",
       "      <td>+12</td>\n",
       "    </tr>\n",
       "    <tr>\n",
       "      <th>2</th>\n",
       "      <td>Acid Gifdump, December 9</td>\n",
       "      <td>25</td>\n",
       "      <td>Gif</td>\n",
       "      <td>5299</td>\n",
       "      <td>+11</td>\n",
       "    </tr>\n",
       "    <tr>\n",
       "      <th>3</th>\n",
       "      <td>Hidden Details In Cartoon Movies</td>\n",
       "      <td>25</td>\n",
       "      <td>Pics</td>\n",
       "      <td>1646</td>\n",
       "      <td>+3</td>\n",
       "    </tr>\n",
       "    <tr>\n",
       "      <th>4</th>\n",
       "      <td>Hot Girls</td>\n",
       "      <td>40</td>\n",
       "      <td>Girls</td>\n",
       "      <td>3620</td>\n",
       "      <td>+7</td>\n",
       "    </tr>\n",
       "  </tbody>\n",
       "</table>\n",
       "</div>"
      ],
      "text/plain": [
       "                           acid name number of pics     category    views  \\\n",
       "0                    Acid Picdump 1             82     Picdump     6575     \n",
       "1                    Acid Picdump 2             80     Picdump     5036     \n",
       "2          Acid Gifdump, December 9             25         Gif     5299     \n",
       "3  Hidden Details In Cartoon Movies             25        Pics     1646     \n",
       "4                         Hot Girls             40       Girls     3620     \n",
       "\n",
       "  likes  \n",
       "0   +17  \n",
       "1   +12  \n",
       "2   +11  \n",
       "3    +3  \n",
       "4    +7  "
      ]
     },
     "execution_count": 14,
     "metadata": {},
     "output_type": "execute_result"
    }
   ],
   "source": [
    "wrapper = soup.find(\"div\",{\"id\": \"dle-content\"})\n",
    "\n",
    "posts = wrapper.find_all(\"div\",{\"class\": \"post\"})\n",
    "\n",
    "post_title = []\n",
    "post_pics_num = []\n",
    "post_cat = []\n",
    "post_view = []\n",
    "post_like = []\n",
    "\n",
    "for post in posts:\n",
    "    poster = post.a.text\n",
    "    \n",
    "    if len(poster.split(\"(\")) > 1:\n",
    "        post_title.append(post.a.text.split(\"(\")[0])\n",
    "    else:\n",
    "        post_title.append(post.a.text)\n",
    "    \n",
    "    if len(poster.split(\"(\")) > 1:\n",
    "        post_pics_num.append(poster.split(\"(\")[1].replace(\"pics)\", \"\").replace(\"gifs)\", \"\"))\n",
    "\n",
    "    else:\n",
    "        post_pics_num.append(0)\n",
    "        \n",
    "    post_cat.append(post.ul.li.text.split(\":\")[1].replace(\"|\", \"\"))    \n",
    "    \n",
    "    post_view.append(post.find(\"ul\", {\"class\":\"reset infobox\"}).find_all(\"li\")[2].text.split(\":\")[1].replace(\"|\", \"\"))\n",
    "    \n",
    "    likes = wrapper.find(\"ul\", {\"class\":\"reset infobox\"}).find_all(\"li\")[3]\n",
    "    \n",
    "    if post.find(\"span\", {\"class\":\"ratingtypeplusminus ignore-select ratingplus\"}):\n",
    "        post_like.append(post.find(\"span\", {\"class\":\"ratingtypeplusminus ignore-select ratingplus\"}).text)\n",
    "    else:\n",
    "        post_like.append(0)\n",
    "        \n",
    "\n",
    "data = zip(post_title, post_pics_num, post_cat, post_view, post_like)\n",
    "df = pd.DataFrame(data, columns=['acid name', 'number of pics', 'category', 'views', 'likes'])\n",
    "df.head(5)\n",
    "    "
   ]
  },
  {
   "cell_type": "code",
   "execution_count": 16,
   "metadata": {},
   "outputs": [
    {
     "data": {
      "text/plain": [
       "acid name         31\n",
       "number of pics    31\n",
       "category          31\n",
       "views             31\n",
       "likes             31\n",
       "dtype: int64"
      ]
     },
     "execution_count": 16,
     "metadata": {},
     "output_type": "execute_result"
    }
   ],
   "source": [
    "df.count()"
   ]
  },
  {
   "cell_type": "code",
   "execution_count": 10,
   "metadata": {},
   "outputs": [
    {
     "name": "stdout",
     "output_type": "stream",
     "text": [
      "https://acidcow.com/1/\n",
      "https://acidcow.com/2/\n",
      "https://acidcow.com/3/\n",
      "https://acidcow.com/4/\n",
      "https://acidcow.com/5/\n",
      "https://acidcow.com/6/\n",
      "https://acidcow.com/7/\n",
      "https://acidcow.com/8/\n",
      "https://acidcow.com/9/\n"
     ]
    }
   ],
   "source": [
    "for page in range(1, 10):\n",
    "    print(url + str(page) + \"/\")"
   ]
  }
 ],
 "metadata": {
  "kernelspec": {
   "display_name": "Python 3",
   "language": "python",
   "name": "python3"
  },
  "language_info": {
   "codemirror_mode": {
    "name": "ipython",
    "version": 3
   },
   "file_extension": ".py",
   "mimetype": "text/x-python",
   "name": "python",
   "nbconvert_exporter": "python",
   "pygments_lexer": "ipython3",
   "version": "3.7.3"
  }
 },
 "nbformat": 4,
 "nbformat_minor": 2
}
