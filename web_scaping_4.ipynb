{
 "cells": [
  {
   "cell_type": "code",
   "execution_count": 39,
   "metadata": {},
   "outputs": [],
   "source": [
    "import requests\n",
    "from bs4 import BeautifulSoup as bs\n",
    "import pandas as pd\n",
    "\n",
    "root = \"https://acidcow.com/\"\n",
    "\n",
    "#create loop for pages\n",
    "\n",
    "post_title = []\n",
    "post_pics_num = []\n",
    "post_cat = []\n",
    "post_view = []\n",
    "post_like = []\n",
    "\n",
    "for page in range(1, 10):\n",
    "    url = root + \"page/\" + str(page) + \"/\"    \n",
    "    r = requests.get(url)\n",
    "    soup = bs(r.text, \"lxml\")\n",
    "    \n",
    "    #loop throu pages\n",
    "    wrapper = soup.find(\"div\",{\"id\": \"dle-content\"})\n",
    "\n",
    "    posts = wrapper.find_all(\"div\",{\"class\": \"post\"})\n",
    "\n",
    "    for post in posts:\n",
    "        poster = post.a.text\n",
    "\n",
    "        if len(poster.split(\"(\")) > 1:\n",
    "            post_title.append(post.a.text.split(\"(\")[0])\n",
    "        else:\n",
    "            post_title.append(post.a.text)\n",
    "\n",
    "        if len(poster.split(\"(\")) > 1:\n",
    "            post_pics_num.append(poster.split(\"(\")[1].replace(\"pics)\", \"\").replace(\"gifs)\", \"\"))\n",
    "\n",
    "        else:\n",
    "            post_pics_num.append(0)\n",
    "\n",
    "        post_cat.append(post.ul.li.text.split(\":\")[1].replace(\"|\", \"\"))    \n",
    "\n",
    "        post_view.append(post.find(\"ul\", {\"class\":\"reset infobox\"}).find_all(\"li\")[2].text.split(\":\")[1].replace(\"|\", \"\"))\n",
    "\n",
    "        likes = wrapper.find(\"ul\", {\"class\":\"reset infobox\"}).find_all(\"li\")[3]\n",
    "\n",
    "        if post.find(\"span\", {\"class\":\"ratingtypeplusminus ignore-select ratingplus\"}):\n",
    "            post_like.append(post.find(\"span\", {\"class\":\"ratingtypeplusminus ignore-select ratingplus\"}).text)\n",
    "        else:\n",
    "            post_like.append(0)\n",
    "\n",
    "\n",
    "data = zip(post_title, post_pics_num, post_cat, post_view, post_like)\n",
    "df = pd.DataFrame(data, columns=['acid name', 'number of pics', 'category', 'views', 'likes'])\n",
    "    "
   ]
  },
  {
   "cell_type": "code",
   "execution_count": 40,
   "metadata": {},
   "outputs": [
    {
     "data": {
      "text/plain": [
       "acid name         279\n",
       "number of pics    279\n",
       "category          279\n",
       "views             279\n",
       "likes             279\n",
       "dtype: int64"
      ]
     },
     "execution_count": 40,
     "metadata": {},
     "output_type": "execute_result"
    }
   ],
   "source": [
    "df.count()"
   ]
  }
 ],
 "metadata": {
  "kernelspec": {
   "display_name": "Python 3",
   "language": "python",
   "name": "python3"
  },
  "language_info": {
   "codemirror_mode": {
    "name": "ipython",
    "version": 3
   },
   "file_extension": ".py",
   "mimetype": "text/x-python",
   "name": "python",
   "nbconvert_exporter": "python",
   "pygments_lexer": "ipython3",
   "version": "3.7.3"
  }
 },
 "nbformat": 4,
 "nbformat_minor": 2
}
