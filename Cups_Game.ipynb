{
 "cells": [
  {
   "cell_type": "code",
   "execution_count": 16,
   "metadata": {},
   "outputs": [],
   "source": [
    "import random\n",
    "\n",
    "class board_game():\n",
    "    \n",
    "    def __init__(self):\n",
    "        self.board = [\"-\" for a in range(3)]\n",
    "        self.board[0] = \"O\"\n",
    "        \n",
    "    def shuffle(self):\n",
    "        random.shuffle(self.board)\n",
    "        \n",
    "    def __str__(self):\n",
    "        return f'board game is ready'"
   ]
  },
  {
   "cell_type": "code",
   "execution_count": 17,
   "metadata": {},
   "outputs": [],
   "source": [
    "class Player():\n",
    "    \n",
    "    def __init__(self, name):\n",
    "        self.name = name    \n",
    "        \n",
    "    def __str__(self):\n",
    "        return f'{self.name}'"
   ]
  },
  {
   "cell_type": "code",
   "execution_count": 18,
   "metadata": {},
   "outputs": [],
   "source": [
    "class Chips():\n",
    "    \n",
    "    def __init__(self):\n",
    "        self.chips = 100\n",
    "        self.bet = 0\n",
    "        \n",
    "    def bet_win(self):\n",
    "        self.chips += self.bet\n",
    "\n",
    "    def bet_loss(self):\n",
    "        self.chips -= self.bet    "
   ]
  },
  {
   "cell_type": "code",
   "execution_count": 20,
   "metadata": {},
   "outputs": [],
   "source": [
    "def bet(chips):\n",
    "    \n",
    "    chips.bet = int(input('Place your bet: '))"
   ]
  },
  {
   "cell_type": "code",
   "execution_count": 19,
   "metadata": {},
   "outputs": [],
   "source": [
    "def guess():\n",
    "    \n",
    "    guess = int(input('Please quess a nut from 0 to 2: '))\n",
    "    return guess\n",
    "    "
   ]
  },
  {
   "cell_type": "code",
   "execution_count": 46,
   "metadata": {},
   "outputs": [],
   "source": [
    "from datetime import datetime\n",
    "def save_game(name, chips):\n",
    "    \n",
    "    name = player.name\n",
    "    chips = chips.chips\n",
    "    date = datetime.now()\n",
    "    \n",
    "    with open('saved_games.txt', 'w+') as f:\n",
    "        f.write(f'player: {name} with {chips} of chips on {date}')\n",
    "    "
   ]
  },
  {
   "cell_type": "code",
   "execution_count": 48,
   "metadata": {},
   "outputs": [
    {
     "name": "stdout",
     "output_type": "stream",
     "text": [
      "board game is ready\n",
      "Place your bet:  10\n",
      "Please quess a nut from 0 to 2: 1\n",
      "you win\n",
      "player Ales has 110\n",
      "Do you want to play again? y or nn\n",
      "Do you want to save game? y or nn\n"
     ]
    }
   ],
   "source": [
    "player = Player(\"Ales\")\n",
    "table = board_game()\n",
    "players_chips = Chips()\n",
    "print(table)\n",
    "\n",
    "while True:\n",
    "\n",
    "    players_bet = bet(players_chips)\n",
    "    player_guess = guess()\n",
    "    table.shuffle()\n",
    "\n",
    "    if table.board[player_guess] == \"O\":\n",
    "        print('you win')\n",
    "        players_chips.bet_win()\n",
    "        print(f'player {player.name} has {players_chips.chips}')\n",
    "    else:\n",
    "        print('you lose')\n",
    "        players_chips.bet_loss()\n",
    "        print(f'player {player.name} has {players_chips.chips}')\n",
    "\n",
    "    game_on = input('Do you want to play again? y or n')\n",
    "    \n",
    "    if game_on == 'n':      \n",
    "        save = input('Do you want to save game? y or n')\n",
    "        if save == 'y':\n",
    "            save_game(player, players_chips)\n",
    "        else:\n",
    "            pass\n",
    "        break\n",
    "    "
   ]
  }
 ],
 "metadata": {
  "kernelspec": {
   "display_name": "Python 3",
   "language": "python",
   "name": "python3"
  },
  "language_info": {
   "codemirror_mode": {
    "name": "ipython",
    "version": 3
   },
   "file_extension": ".py",
   "mimetype": "text/x-python",
   "name": "python",
   "nbconvert_exporter": "python",
   "pygments_lexer": "ipython3",
   "version": "3.7.3"
  }
 },
 "nbformat": 4,
 "nbformat_minor": 2
}
