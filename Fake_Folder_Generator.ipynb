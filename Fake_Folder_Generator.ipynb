{
 "cells": [
  {
   "cell_type": "code",
   "execution_count": 108,
   "metadata": {},
   "outputs": [],
   "source": [
    "import os\n",
    "import string\n",
    "import hashlib\n",
    "\n",
    "extra_characters = {x for x in string.punctuation}\n",
    "\n",
    "class FolderGenereator():\n",
    "    \n",
    "    default_path = os.path.join(os.path.join(os.environ['USERPROFILE']), 'Desktop\\\\tester')\n",
    "    \n",
    "    def __init__(self, root_name = \"Wow\", num_of_files = 1):\n",
    "        self.root_name = root_name\n",
    "        self.num_of_files = num_of_files\n",
    "        self.byte_hash = 0\n",
    "        \n",
    "    def set_root_name(self):\n",
    "        \n",
    "        while True:\n",
    "            root = input('set root name of files: ')\n",
    "            root_set = {a for a in root}\n",
    "            if extra_characters.isdisjoint(root_set):\n",
    "                return root\n",
    "                break\n",
    "            else:\n",
    "                print('root name does not accept special characters')\n",
    "    \n",
    "    def set_num_of_files(self):\n",
    "        \n",
    "        while True:\n",
    "            try:\n",
    "                return int(input('set number of files: '))\n",
    "                break\n",
    "            except:\n",
    "                print(\"you must set integer!\")\n",
    "                \n",
    "    def generate_bytes(self, root_name):\n",
    "        \n",
    "        hash_object = hashlib.sha256(self.root_name.encode('utf-8'))\n",
    "        hex_dig = hash_object.hexdigest()\n",
    "        return hex_dig\n",
    "    \n",
    "    def Create_Folders(self):\n",
    "        \n",
    "        root_name = self.set_root_name()\n",
    "        num_of_files = self.set_num_of_files()\n",
    "        content = self.generate_bytes(root_name)\n",
    "        \n",
    "        for i in range(num_of_files):\n",
    "            fld = root_name + '_' + str(i)\n",
    "            path = os.path.join(self.default_path, fld)\n",
    "            \n",
    "            os.mkdir(path)\n",
    "            \n",
    "            file = os.path.join(path, \"FileTEST_\" + str(i) + \".txt\")\n",
    "            f = open(file, \"w\")\n",
    "            f.write(content)\n",
    "            f.close()"
   ]
  },
  {
   "cell_type": "code",
   "execution_count": 109,
   "metadata": {},
   "outputs": [],
   "source": [
    "f = FolderGenereator()"
   ]
  },
  {
   "cell_type": "code",
   "execution_count": 110,
   "metadata": {},
   "outputs": [
    {
     "name": "stdout",
     "output_type": "stream",
     "text": [
      "set root name of files: wwww\n",
      "set number of files: 4\n"
     ]
    }
   ],
   "source": [
    "f.Create_Folders()"
   ]
  }
 ],
 "metadata": {
  "kernelspec": {
   "display_name": "Python 3",
   "language": "python",
   "name": "python3"
  },
  "language_info": {
   "codemirror_mode": {
    "name": "ipython",
    "version": 3
   },
   "file_extension": ".py",
   "mimetype": "text/x-python",
   "name": "python",
   "nbconvert_exporter": "python",
   "pygments_lexer": "ipython3",
   "version": "3.7.3"
  }
 },
 "nbformat": 4,
 "nbformat_minor": 2
}
